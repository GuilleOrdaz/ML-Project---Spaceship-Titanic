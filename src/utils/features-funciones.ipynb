{
 "cells": [
  {
   "cell_type": "code",
   "execution_count": null,
   "metadata": {},
   "outputs": [],
   "source": [
    "##funcion para separar cabin\n",
    "\n",
    "def cabina_div(x):\n",
    "    if len(str(x).split('/')) < 3:\n",
    "        return ['Missing','Missing','Missing']\n",
    "    else:\n",
    "        return str(x).split('/')\n"
   ]
  },
  {
   "cell_type": "code",
   "execution_count": null,
   "metadata": {},
   "outputs": [],
   "source": [
    "# función principal missing values\n",
    "def processing_features(df):\n",
    "    '''Rellenamos los missing de HomePlanet'''\n",
    "    \n",
    "    \n",
    "    df['HomePlanet'].fillna(df['HomePlanet'].mode()[0], inplace= True)\n",
    "    \n",
    "    '''Dividimos la columna Cabin para sacar el deck(plataforma) y el side(lado)'''\n",
    "    df['Cabin'].fillna(df['Cabin'].mode()[0])\n",
    "    df['Cab_div'] = df['Cabin'].apply(lambda x: cabina_div(x))\n",
    "    df['Deck'] = df['Cab_div'].apply(lambda x: x[0])\n",
    "    df['Side'] = df['Cab_div'].apply(lambda x: x[2])\n",
    "    df.drop(['Cab_div','Cabin'], axis=1, inplace= True)\n",
    "\n",
    "    ''' Rellenamos los missing de CryoSleep'''\n",
    "    df['CryoSleep'].fillna(df['CryoSleep'].mode()[0], inplace= True)\n",
    "\n",
    "    '''Rellenamos los missing de VIP'''\n",
    "    df['VIP'].fillna(df['VIP'].mode()[0], inplace= True)\n",
    "\n",
    "    '''Rellenamos los missing de Destination'''\n",
    "    df['Destination'].fillna(df['Destination'].mode().values[0], inplace= True)\n",
    "    '''Rellenamos los missing de la edad, con la edad media'''\n",
    "    df['Age'].fillna(df['Age'].mean(), inplace = True)\n",
    "\n",
    "    '''Rellenamos los missing de RoomService, FoodCourt, ShoppingMall, Spa, VRDeck'''\n",
    "    df['RoomService'].fillna(df['RoomService'].mean(), inplace = True)\n",
    "    df['FoodCourt'].fillna(df['FoodCourt'].mean(), inplace = True)\n",
    "    df['ShoppingMall'].fillna(df['ShoppingMall'].mean(), inplace = True)\n",
    "    df['Spa'].fillna(df['Spa'].mean(), inplace = True)\n",
    "    df['VRDeck'].fillna(df['VRDeck'].mean(), inplace = True)\n",
    "    \n",
    "    ''' Eliminamos la columna Name'''\n",
    "    df.drop('Name',axis =1, inplace=True)"
   ]
  }
 ],
 "metadata": {
  "kernelspec": {
   "display_name": "Python 3",
   "language": "python",
   "name": "python3"
  },
  "language_info": {
   "name": "python",
   "version": "3.7.4 (tags/v3.7.4:e09359112e, Jul  8 2019, 20:34:20) [MSC v.1916 64 bit (AMD64)]"
  },
  "orig_nbformat": 4,
  "vscode": {
   "interpreter": {
    "hash": "b213cd0c7dc86fb09f7378e09d09f37ed50992d496516f682658e1f7568be4e1"
   }
  }
 },
 "nbformat": 4,
 "nbformat_minor": 2
}
